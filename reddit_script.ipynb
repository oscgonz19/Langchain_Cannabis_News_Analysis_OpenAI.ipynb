{
 "cells": [
  {
   "cell_type": "code",
   "execution_count": 2,
   "metadata": {},
   "outputs": [
    {
     "name": "stdout",
     "output_type": "stream",
     "text": [
      "Collecting praw\n",
      "  Downloading praw-7.7.1-py3-none-any.whl.metadata (9.8 kB)\n",
      "Collecting prawcore<3,>=2.1 (from praw)\n",
      "  Downloading prawcore-2.4.0-py3-none-any.whl.metadata (5.0 kB)\n",
      "Collecting update-checker>=0.18 (from praw)\n",
      "  Downloading update_checker-0.18.0-py3-none-any.whl.metadata (2.3 kB)\n",
      "Requirement already satisfied: websocket-client>=0.54.0 in /home/ozz/anaconda3/envs/envopenai/lib/python3.11/site-packages (from praw) (1.7.0)\n",
      "Requirement already satisfied: requests<3.0,>=2.6.0 in /home/ozz/anaconda3/envs/envopenai/lib/python3.11/site-packages (from prawcore<3,>=2.1->praw) (2.31.0)\n",
      "Requirement already satisfied: charset-normalizer<4,>=2 in /home/ozz/anaconda3/envs/envopenai/lib/python3.11/site-packages (from requests<3.0,>=2.6.0->prawcore<3,>=2.1->praw) (3.3.2)\n",
      "Requirement already satisfied: idna<4,>=2.5 in /home/ozz/anaconda3/envs/envopenai/lib/python3.11/site-packages (from requests<3.0,>=2.6.0->prawcore<3,>=2.1->praw) (3.6)\n",
      "Requirement already satisfied: urllib3<3,>=1.21.1 in /home/ozz/anaconda3/envs/envopenai/lib/python3.11/site-packages (from requests<3.0,>=2.6.0->prawcore<3,>=2.1->praw) (1.26.18)\n",
      "Requirement already satisfied: certifi>=2017.4.17 in /home/ozz/anaconda3/envs/envopenai/lib/python3.11/site-packages (from requests<3.0,>=2.6.0->prawcore<3,>=2.1->praw) (2024.2.2)\n",
      "Downloading praw-7.7.1-py3-none-any.whl (191 kB)\n",
      "\u001b[2K   \u001b[90m━━━━━━━━━━━━━━━━━━━━━━━━━━━━━━━━━━━━━━━━\u001b[0m \u001b[32m191.0/191.0 kB\u001b[0m \u001b[31m1.1 MB/s\u001b[0m eta \u001b[36m0:00:00\u001b[0ma \u001b[36m0:00:01\u001b[0mm\n",
      "\u001b[?25hDownloading prawcore-2.4.0-py3-none-any.whl (17 kB)\n",
      "Downloading update_checker-0.18.0-py3-none-any.whl (7.0 kB)\n",
      "Installing collected packages: update-checker, prawcore, praw\n",
      "Successfully installed praw-7.7.1 prawcore-2.4.0 update-checker-0.18.0\n"
     ]
    }
   ],
   "source": [
    "!pip install praw\n"
   ]
  },
  {
   "cell_type": "code",
   "execution_count": 3,
   "metadata": {},
   "outputs": [],
   "source": [
    "import praw\n",
    "import json\n",
    "from datetime import datetime, timedelta\n",
    "from dotenv import load_dotenv\n",
    "import os"
   ]
  },
  {
   "cell_type": "code",
   "execution_count": 4,
   "metadata": {},
   "outputs": [],
   "source": [
    "# Cargar las variables de entorno\n",
    "load_dotenv()\n",
    "client_id = os.getenv('REDDIT_CLIENT_ID')\n",
    "client_secret = os.getenv('REDDIT_CLIENT_SECRET')\n",
    "user_agent = os.getenv('REDDIT_USER_AGENT')"
   ]
  },
  {
   "cell_type": "code",
   "execution_count": 5,
   "metadata": {},
   "outputs": [
    {
     "name": "stdout",
     "output_type": "stream",
     "text": [
      "Error during authentication: name 'reddit' is not defined\n"
     ]
    }
   ],
   "source": [
    "# Verificación: Obtener información sobre tu cuenta\n",
    "try:\n",
    "    user = reddit.user.me()\n",
    "    print(f\"Authenticated as: {user.name}\")\n",
    "except Exception as e:\n",
    "    print(f\"Error during authentication: {e}\")"
   ]
  },
  {
   "cell_type": "code",
   "execution_count": null,
   "metadata": {},
   "outputs": [],
   "source": [
    "\n",
    "\n",
    "\n",
    "# Inicializar el cliente de Reddit\n",
    "reddit = praw.Reddit(\n",
    "    client_id=client_id,\n",
    "    client_secret=client_secret,\n",
    "    user_agent=user_agent\n",
    ")\n",
    "\n",
    "# Lista de subreddits relevantes\n",
    "subreddits = [\n",
    "    \"cannabis\", \"weedstocks\", \"MMJ\", \"CBD\", \"eldertrees\",\n",
    "    \"psychedelics\", \"shroomstocks\", \"psychedelicstudies\",\n",
    "    # Ejemplos de subreddits estatales\n",
    "    \"californialegal\", \"COents\", \"Michigents\", \"FLmedicaltrees\"\n",
    "]\n",
    "\n",
    "# Palabras clave para filtrar contenido relevante\n",
    "keywords = [\n",
    "    \"legalization\", \"medical\", \"industry\", \"investment\", \"stocks\",\n",
    "    \"research\", \"policy\", \"business\", \"economy\", \"finance\",\n",
    "    \"psilocybin\", \"MDMA\", \"LSD\", \"ketamine\", \"ayahuasca\"\n",
    "]\n",
    "\n",
    "# Tiempo límite para los posts (7 días atrás)\n",
    "time_limit = datetime.utcnow() - timedelta(days=7)\n",
    "\n",
    "news_data = {}\n",
    "\n",
    "for subreddit_name in subreddits:\n",
    "    print(f\"Buscando en r/{subreddit_name}\")\n",
    "    subreddit = reddit.subreddit(subreddit_name)\n",
    "    news_data[subreddit_name] = []\n",
    "\n",
    "    # Ajusta el límite según necesidades\n",
    "    for submission in subreddit.new(limit=100):\n",
    "        if submission.created_utc < time_limit.timestamp():\n",
    "            break\n",
    "\n",
    "        # Verificar si el post contiene palabras clave relevantes\n",
    "        if any(keyword.lower() in submission.title.lower() or\n",
    "               (submission.selftext and keyword.lower()\n",
    "                in submission.selftext.lower())\n",
    "               for keyword in keywords):\n",
    "            news_data[subreddit_name].append({\n",
    "                'title': submission.title,\n",
    "                'link': f\"https://www.reddit.com{submission.permalink}\",\n",
    "                'snippet': submission.selftext[:200] + \"...\" if submission.selftext else \"No self text\",\n",
    "                'published_at': datetime.fromtimestamp(submission.created_utc).isoformat(),\n",
    "                'score': submission.score,\n",
    "                'num_comments': submission.num_comments\n",
    "            })\n",
    "\n",
    "    print(\n",
    "        f\"Encontrados {len(news_data[subreddit_name])} posts relevantes en r/{subreddit_name}\")\n",
    "\n",
    "# Filtrar subreddits sin posts relevantes\n",
    "news_data = {subreddit: posts for subreddit,\n",
    "             posts in news_data.items() if posts}\n",
    "\n",
    "# Guardar los resultados en un archivo JSON\n",
    "with open('reddit_cannabis_psychedelics_news.json', 'w') as f:\n",
    "    json.dump(news_data, f, indent=4)\n",
    "\n",
    "print(\"Datos guardados en 'reddit_cannabis_psychedelics_news.json'\")"
   ]
  }
 ],
 "metadata": {
  "kernelspec": {
   "display_name": "envopenai",
   "language": "python",
   "name": "python3"
  },
  "language_info": {
   "codemirror_mode": {
    "name": "ipython",
    "version": 3
   },
   "file_extension": ".py",
   "mimetype": "text/x-python",
   "name": "python",
   "nbconvert_exporter": "python",
   "pygments_lexer": "ipython3",
   "version": "3.11.5"
  }
 },
 "nbformat": 4,
 "nbformat_minor": 2
}
